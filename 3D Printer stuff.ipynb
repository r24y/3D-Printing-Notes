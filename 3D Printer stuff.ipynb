{
 "metadata": {
  "language": "Julia",
  "name": ""
 },
 "nbformat": 3,
 "nbformat_minor": 0,
 "worksheets": [
  {
   "cells": [
    {
     "cell_type": "heading",
     "level": 1,
     "metadata": {},
     "source": [
      "3D Printer Notes"
     ]
    },
    {
     "cell_type": "heading",
     "level": 2,
     "metadata": {},
     "source": [
      "Delta bot configuration"
     ]
    },
    {
     "cell_type": "markdown",
     "metadata": {},
     "source": [
      "`BasicDeltaBotConfig` represents a typical delta-bot, with arms all the same length and three towers spaced at 120&deg; intervals around a circle. Here I define the class and some utility functions."
     ]
    },
    {
     "cell_type": "code",
     "collapsed": false,
     "input": [
      "abstract AbstractDeltaBotConfig\n",
      "\n",
      "type BasicDeltaBotConfig <: AbstractDeltaBotConfig\n",
      "    armLength::Real\n",
      "    platformOffset::Real\n",
      "    bedRadius::Real\n",
      "end\n",
      "\n",
      "armLength(config::BasicDeltaBotConfig, i::Integer) = config.armLength\n",
      "armLengths(config::AbstractDeltaBotConfig) = map(n -> armLength(config, n), 1:3)\n",
      "platformOffset(config::BasicDeltaBotConfig, i::Integer) = config.platformOffset\n",
      "platformOffsets(config::AbstractDeltaBotConfig) = map(n -> platformOffset(config, n), 1:3)\n",
      "bedRadius(config::BasicDeltaBotConfig, i::Integer) = config.bedRadius\n",
      "bedRadii(config::AbstractDeltaBotConfig) = map(n -> bedRadius(config, n), 1:3)"
     ],
     "language": "python",
     "metadata": {},
     "outputs": [
      {
       "metadata": {},
       "output_type": "pyout",
       "prompt_number": 1,
       "text": [
        "bedRadii (generic function with 1 method)"
       ]
      }
     ],
     "prompt_number": 1
    },
    {
     "cell_type": "markdown",
     "metadata": {},
     "source": [
      "`myBotConfig` is going to be our guinea pig for the code we write later."
     ]
    },
    {
     "cell_type": "code",
     "collapsed": false,
     "input": [
      "myBotConfig = BasicDeltaBotConfig(0.25, 0.033, (0.175-0.018))"
     ],
     "language": "python",
     "metadata": {},
     "outputs": [
      {
       "metadata": {},
       "output_type": "pyout",
       "prompt_number": 2,
       "text": [
        "BasicDeltaBotConfig(0.25,0.033,0.157)"
       ]
      }
     ],
     "prompt_number": 2
    },
    {
     "cell_type": "markdown",
     "metadata": {},
     "source": [
      "Fetch a list of tower locations from the deltabot."
     ]
    },
    {
     "cell_type": "code",
     "collapsed": false,
     "input": [
      "function towerLocations(config::AbstractDeltaBotConfig)\n",
      "    radii = bedRadii(config)\n",
      "    map(1:3) do i\n",
      "        angle = (i-1)*2pi/3\n",
      "        bedRadius(config, i) * [sin(angle), cos(angle), 0]\n",
      "    end\n",
      "end"
     ],
     "language": "python",
     "metadata": {},
     "outputs": [
      {
       "metadata": {},
       "output_type": "pyout",
       "prompt_number": 3,
       "text": [
        "towerLocations (generic function with 1 method)"
       ]
      }
     ],
     "prompt_number": 3
    },
    {
     "cell_type": "code",
     "collapsed": false,
     "input": [
      "towerLocations(myBotConfig)"
     ],
     "language": "python",
     "metadata": {},
     "outputs": [
      {
       "metadata": {},
       "output_type": "pyout",
       "prompt_number": 4,
       "text": [
        "3-element Array{Array{Float64,1},1}:\n",
        " [0.0,0.157,0.0]        \n",
        " [0.135966,-0.0785,0.0] \n",
        " [-0.135966,-0.0785,0.0]"
       ]
      }
     ],
     "prompt_number": 4
    },
    {
     "cell_type": "heading",
     "level": 2,
     "metadata": {},
     "source": [
      "Solving for carriage heights"
     ]
    },
    {
     "cell_type": "markdown",
     "metadata": {},
     "source": [
      "The math here comes from [Annirak's comment on Hack-A-Day](http://hackaday.com/2012/07/13/3d-printing-with-a-delta-robot-that-seems-to-simplify-the-concept/#comment-702342).\n",
      "\n",
      ">First define three vectors $\\mathbf A$, $\\mathbf B$, and $\\mathbf C$ from the origin to each support/drive pillar.\n",
      "Define a vector $\\mathbf W$ from the origin to the desired location of the print head.\n",
      "Define $r$ as the length of an arm.\n",
      "Define the height of each carriage on its pillar as $h_a$, $h_b$, and $h_c$.\n",
      "\n",
      ">Then the horizontal distance from each pillar to the print head is:\n",
      ">>$$\n",
      "a = \\left\\|\\mathbf W-\\mathbf A\\right\\|\\\\\n",
      "b = \\left\\|\\mathbf W-\\mathbf B\\right\\|\\\\\n",
      "c = \\left\\|\\mathbf W-\\mathbf C\\right\\|\n",
      "$$\n",
      "\n",
      ">Then, knowing the length of the arm, each height is defined as:\n",
      ">>$$\n",
      "h_a = z + \\sqrt{r^2 \u2013 a^2}\\\\\n",
      "h_b = z + \\sqrt{r^2 \u2013 b^2}\\\\\n",
      "h_c = z + \\sqrt{r^2 \u2013 c^2}\n",
      "$$\n",
      "\n",
      ">This is actually pretty easy math!"
     ]
    },
    {
     "cell_type": "code",
     "collapsed": false,
     "input": [
      "function carriageHeights(printHeadPosition::Vector, config::AbstractDeltaBotConfig)\n",
      "    #First define three vectors from the origin to each support/drive pillar: A,B,C\n",
      "    ABC = towerLocations(config)\n",
      "    \n",
      "    #Define a vector from the origin to the desired location of the print head: W\n",
      "    W = printHeadPosition\n",
      "    \n",
      "    #Define the length of an arm: r\n",
      "    r = armLengths(config)\n",
      "    \n",
      "    #Define the height of each carriage on its pillar: ha, hb, hc\n",
      "    #Then the horizontal distance from each pillar to the print head is:\n",
      "    #a = |W-A|\n",
      "    #b = |W-B|\n",
      "    #c = |W-C|\n",
      "    horizontalDistance = map(ABC) do towerPosn\n",
      "        sqrt(\n",
      "            (W[1] - towerPosn[1])^2 + \n",
      "            (W[2] - towerPosn[2])^2\n",
      "        )\n",
      "    end\n",
      "    \n",
      "    #Then, knowing the length of the arm, each height is defined as:\n",
      "    #ha = z + sqrt(r^2 \u2013 a^2)\n",
      "    #hb = z + sqrt(r^2 \u2013 b^2)\n",
      "    #hc = z + sqrt(r^2 \u2013 c^2)\n",
      "    map(1:3) do i\n",
      "        printHeadPosition[3] + sqrt(r[i]^2 - horizontalDistance[i]^2)\n",
      "    end\n",
      "end"
     ],
     "language": "python",
     "metadata": {},
     "outputs": [
      {
       "metadata": {},
       "output_type": "pyout",
       "prompt_number": 5,
       "text": [
        "carriageHeights (generic function with 1 method)"
       ]
      }
     ],
     "prompt_number": 5
    },
    {
     "cell_type": "code",
     "collapsed": false,
     "input": [
      "ch = carriageHeights([0,0,0], myBotConfig)"
     ],
     "language": "python",
     "metadata": {},
     "outputs": [
      {
       "metadata": {},
       "output_type": "pyout",
       "prompt_number": 6,
       "text": [
        "3-element Array{Float64,1}:\n",
        " 0.194553\n",
        " 0.194553\n",
        " 0.194553"
       ]
      }
     ],
     "prompt_number": 6
    },
    {
     "cell_type": "code",
     "collapsed": false,
     "input": [
      "type Sphere{T<:Real}\n",
      "    center::Array{T}\n",
      "    radius::Real\n",
      "end"
     ],
     "language": "python",
     "metadata": {},
     "outputs": [],
     "prompt_number": 7
    },
    {
     "cell_type": "code",
     "collapsed": false,
     "input": [
      "function magnitude{T<:Real}(vec::Array{T, 1})\n",
      "    sqrt( reduce(+, map(x -> x^2, vec)))\n",
      "end\n",
      "function normalize{T<:Real}(vec::Array{T, 1})\n",
      "    mag = magnitude(vec)\n",
      "    map(x -> x/mag, vec)\n",
      "end"
     ],
     "language": "python",
     "metadata": {},
     "outputs": [
      {
       "metadata": {},
       "output_type": "pyout",
       "prompt_number": 9,
       "text": [
        "normalize (generic function with 1 method)"
       ]
      }
     ],
     "prompt_number": 9
    },
    {
     "cell_type": "code",
     "collapsed": false,
     "input": [
      "normalize([1,1,1])"
     ],
     "language": "python",
     "metadata": {},
     "outputs": [
      {
       "metadata": {},
       "output_type": "pyout",
       "prompt_number": 10,
       "text": [
        "3-element Array{Float64,1}:\n",
        " 0.57735\n",
        " 0.57735\n",
        " 0.57735"
       ]
      }
     ],
     "prompt_number": 10
    },
    {
     "cell_type": "markdown",
     "metadata": {},
     "source": [
      "Trilateration code below based on [Wikipedia/Trilateration](https://en.wikipedia.org/wiki/Trilateration)."
     ]
    },
    {
     "cell_type": "markdown",
     "metadata": {},
     "source": [
      "$$\n",
      "\\mathbf P_i = \\mbox {center of sphere } i\\\\\n",
      "r_i = \\mbox {radius of sphere } i\\\\\n",
      "\\hat{\\mathbf e}_x = \\mathrm{norm}\\left(\\mathbf P_2 - \\mathbf P_1\\right)\\\\\n",
      "i = \\hat{\\mathbf e}_x \\cdot \\left( \\mathbf P_3 - \\mathbf P_1 \\right)\\\\\n",
      "\\hat{\\mathbf e}_y = \\mathrm{norm}\\left( \\mathbf{P}_3 - \\mathbf{P}_1 - \\hat{\\mathbf e}_x i \\right)\\\\\n",
      "d = \\mathrm{norm}\\left( \\mathbf P_2 - \\mathbf P_1 \\right) \\\\\n",
      "j = \\hat{\\mathbf e}_y \\cdot \\left( \\mathbf{P}_3 - \\mathbf{P}_1 \\right)\n",
      "$$\n",
      "\n",
      "$$\n",
      "x = \\frac{r_1^2 - r_2^2 + d^2}{2d}\\\\\n",
      "y = \\frac{r_1^2 - r_3^2 + i^2 + j^2}{2j} - \\frac i j x\\\\\n",
      "z = \\sqrt{r_1^2 - x^2 - y^2}\\\\\n",
      "intersections = \\mathbf P_1 + x \\hat{\\mathbf e}_x + y \\hat{\\mathbf e}_y \\pm z \\hat{\\mathbf e}_z\n",
      "$$"
     ]
    },
    {
     "cell_type": "code",
     "collapsed": false,
     "input": [
      "function trilaterate(spheres)\n",
      "    P = map(sph -> sph.center, spheres)\n",
      "    r = map(sph -> sph.radius, spheres)\n",
      "    basisX = normalize(P[2]-P[1])\n",
      "    i = dot(basisX, P[3]-P[1])\n",
      "    basisY = normalize(P[3]-P[1]-i*basisX)\n",
      "    basisZ = cross(basisX, basisY)\n",
      "    d = magnitude(P[2]-P[1])\n",
      "    j = dot(basisY, P[3]-P[1])\n",
      "    \n",
      "    x = (r[1]^2 - r[2]^2 + d^2)/(2*d)\n",
      "    y = (r[1]^2 - r[3]^2 + i^2 + j^2)/(2j) - (i/j)*x\n",
      "    z = sqrt(r[1]^2 - x^2 - y^2)\n",
      "    \n",
      "    withoutZ = P[1] + x*basisX + y*basisY\n",
      "    (withoutZ + z*basisZ, withoutZ - z*basisZ)\n",
      "end\n",
      "    "
     ],
     "language": "python",
     "metadata": {},
     "outputs": [
      {
       "metadata": {},
       "output_type": "pyout",
       "prompt_number": 11,
       "text": [
        "trilaterate (generic function with 1 method)"
       ]
      }
     ],
     "prompt_number": 11
    },
    {
     "cell_type": "code",
     "collapsed": false,
     "input": [
      "mySpheres = [\n",
      "    Sphere([ 0.0, 0.0, 0.0], (1.5)),\n",
      "    Sphere([ 1.0, 1.0, 1.0], (2.0)),\n",
      "    Sphere([ 1.0,-1.0,-1.0], (2.0))\n",
      "]"
     ],
     "language": "python",
     "metadata": {},
     "outputs": [
      {
       "metadata": {},
       "output_type": "pyout",
       "prompt_number": 12,
       "text": [
        "3-element Array{Sphere{Float64},1}:\n",
        " Sphere{Float64}([0.0,0.0,0.0],1.5)  \n",
        " Sphere{Float64}([1.0,1.0,1.0],2.0)  \n",
        " Sphere{Float64}([1.0,-1.0,-1.0],2.0)"
       ]
      }
     ],
     "prompt_number": 12
    },
    {
     "cell_type": "code",
     "collapsed": false,
     "input": [
      "intersections = trilaterate(mySpheres)"
     ],
     "language": "python",
     "metadata": {},
     "outputs": [
      {
       "metadata": {},
       "output_type": "pyout",
       "prompt_number": 13,
       "text": [
        "([0.625,0.964203,-0.964203],[0.625,-0.964203,0.964203])"
       ]
      }
     ],
     "prompt_number": 13
    },
    {
     "cell_type": "code",
     "collapsed": false,
     "input": [
      "magnitude(intersections[1])"
     ],
     "language": "python",
     "metadata": {},
     "outputs": [
      {
       "metadata": {},
       "output_type": "pyout",
       "prompt_number": 14,
       "text": [
        "1.5000000000000002"
       ]
      }
     ],
     "prompt_number": 14
    },
    {
     "cell_type": "code",
     "collapsed": false,
     "input": [
      "magnitude(intersections[2])"
     ],
     "language": "python",
     "metadata": {},
     "outputs": [
      {
       "metadata": {},
       "output_type": "pyout",
       "prompt_number": 15,
       "text": [
        "1.5000000000000002"
       ]
      }
     ],
     "prompt_number": 15
    },
    {
     "cell_type": "code",
     "collapsed": false,
     "input": [
      "function printHeadLocation(carriages, config::AbstractDeltaBotConfig)\n",
      "    towers = towerLocations(config)\n",
      "    leng = armLengths(config)\n",
      "    spheres = map(zip(towers, carriages, leng)) do inf\n",
      "        locn = inf[1]\n",
      "        height = inf[2]\n",
      "        r = inf[3]\n",
      "        Sphere(locn + [0,0,height], r)\n",
      "    end\n",
      "    trilaterate(spheres)\n",
      "end\n",
      "        "
     ],
     "language": "python",
     "metadata": {},
     "outputs": [
      {
       "metadata": {},
       "output_type": "pyout",
       "prompt_number": 16,
       "text": [
        "printHeadLocation (generic function with 1 method)"
       ]
      }
     ],
     "prompt_number": 16
    },
    {
     "cell_type": "code",
     "collapsed": false,
     "input": [
      "printHeadLocation(ch, myBotConfig)"
     ],
     "language": "python",
     "metadata": {},
     "outputs": [
      {
       "metadata": {},
       "output_type": "pyout",
       "prompt_number": 17,
       "text": [
        "([-4.16334e-17,-1.38778e-17,0.0],[-4.16334e-17,-1.38778e-17,0.389107])"
       ]
      }
     ],
     "prompt_number": 17
    },
    {
     "cell_type": "code",
     "collapsed": false,
     "input": [],
     "language": "python",
     "metadata": {},
     "outputs": [
      {
       "output_type": "stream",
       "stream": "stderr",
       "text": [
        "INFO: Cloning cache of Polynomials from git://github.com/Keno/Polynomials.jl.git\n"
       ]
      },
      {
       "output_type": "stream",
       "stream": "stderr",
       "text": [
        "INFO: Cloning cache of PowerSeries from git://github.com/jwmerrill/PowerSeries.jl.git\n"
       ]
      },
      {
       "output_type": "stream",
       "stream": "stderr",
       "text": [
        "INFO: Cloning cache of Roots from git://github.com/JuliaLang/Roots.jl.git\n"
       ]
      },
      {
       "output_type": "stream",
       "stream": "stderr",
       "text": [
        "INFO: Installing Meshes v0.0.4\n"
       ]
      },
      {
       "output_type": "stream",
       "stream": "stderr",
       "text": [
        "fatal: could not create work tree dir 'Meshes'.: File exists\n"
       ]
      },
      {
       "ename": "LoadError",
       "evalue": "failed process: Process(`git clone -q /Users/mullery1/.julia/v0.3/.cache/Meshes Meshes`, ProcessExited(128)) [128]\nwhile loading In[19], in expression starting on line 1",
       "output_type": "pyerr",
       "traceback": [
        "failed process: Process(`git clone -q /Users/mullery1/.julia/v0.3/.cache/Meshes Meshes`, ProcessExited(128)) [128]\nwhile loading In[19], in expression starting on line 1",
        "",
        " in wait at /Applications/Julia-0.3.0.app/Contents/Resources/julia/lib/julia/sys.dylib (repeats 2 times)",
        " in wait at task.jl:48",
        " in sync_end at /Applications/Julia-0.3.0.app/Contents/Resources/julia/lib/julia/sys.dylib",
        " in add at pkg/entry.jl:319",
        " in add at pkg/entry.jl:71",
        " in anonymous at pkg/dir.jl:28",
        " in cd at /Applications/Julia-0.3.0.app/Contents/Resources/julia/lib/julia/sys.dylib",
        " in __cd#227__ at /Applications/Julia-0.3.0.app/Contents/Resources/julia/lib/julia/sys.dylib",
        " in add at pkg.jl:20"
       ]
      }
     ],
     "prompt_number": 19
    },
    {
     "cell_type": "code",
     "collapsed": false,
     "input": [],
     "language": "python",
     "metadata": {},
     "outputs": []
    }
   ],
   "metadata": {}
  }
 ]
}