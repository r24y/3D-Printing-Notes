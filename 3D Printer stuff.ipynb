{
 "metadata": {
  "language": "Julia",
  "name": "",
  "signature": "sha256:fa20842c4de08527c63b1f2f75ab48cc2c76ffd04581572cf5643e976f7a70c2"
 },
 "nbformat": 3,
 "nbformat_minor": 0,
 "worksheets": [
  {
   "cells": [
    {
     "cell_type": "markdown",
     "metadata": {},
     "source": [
      "Trilateration code based on [Wikipedia/Trilateration](https://en.wikipedia.org/wiki/Trilateration)."
     ]
    },
    {
     "cell_type": "code",
     "collapsed": false,
     "input": [
      "using Images\n",
      "\n",
      "abstract AbstractDeltaBotConfig\n",
      "\n",
      "type BasicDeltaBotConfig <: AbstractDeltaBotConfig\n",
      "    armLength::Real\n",
      "    platformOffset::Real\n",
      "    bedRadius::Real\n",
      "end\n",
      "\n",
      "armLength(config::BasicDeltaBotConfig) = config.armLength\n",
      "platformOffset(config::BasicDeltaBotConfig) = config.platformOffset\n",
      "bedRadius(config::BasicDeltaBotConfig) = config.bedRadius"
     ],
     "language": "python",
     "metadata": {},
     "outputs": [
      {
       "metadata": {},
       "output_type": "pyout",
       "prompt_number": 1,
       "text": [
        "bedRadius (generic function with 1 method)"
       ]
      }
     ],
     "prompt_number": 1
    },
    {
     "cell_type": "code",
     "collapsed": false,
     "input": [
      "myBotConfig = BasicDeltaBotConfig(0.25, 0.033, (0.175-0.018))"
     ],
     "language": "python",
     "metadata": {},
     "outputs": [
      {
       "metadata": {},
       "output_type": "pyout",
       "prompt_number": 2,
       "text": [
        "BasicDeltaBotConfig(0.25,0.033,0.157)"
       ]
      }
     ],
     "prompt_number": 2
    },
    {
     "cell_type": "code",
     "collapsed": false,
     "input": [
      "function towerLocations(config::AbstractDeltaBotConfig)\n",
      "    radius = bedRadius(config)\n",
      "    map((n) -> n*pi/3, 0:2) |> x -> map(x) do x\n",
      "        radius * [sin(x), cos(x), 0]\n",
      "    end\n",
      "end"
     ],
     "language": "python",
     "metadata": {},
     "outputs": [
      {
       "metadata": {},
       "output_type": "pyout",
       "prompt_number": 3,
       "text": [
        "towerLocations (generic function with 1 method)"
       ]
      }
     ],
     "prompt_number": 3
    },
    {
     "cell_type": "code",
     "collapsed": false,
     "input": [
      "towerLocations(myBotConfig)"
     ],
     "language": "python",
     "metadata": {},
     "outputs": [
      {
       "metadata": {},
       "output_type": "pyout",
       "prompt_number": 4,
       "text": [
        "3-element Array{Array{Float64,1},1}:\n",
        " [0.0,0.157,0.0]       \n",
        " [0.135966,0.0785,0.0] \n",
        " [0.135966,-0.0785,0.0]"
       ]
      }
     ],
     "prompt_number": 4
    },
    {
     "cell_type": "code",
     "collapsed": false,
     "input": [
      "origin = [0,0,0]\n",
      "function magnitude{T<:Real}(vec::Array{T, 1})\n",
      "    sqrt( reduce(map(x -> x^2, vec)) do prev, next\n",
      "        prev + next\n",
      "    end)\n",
      "end\n",
      "function normalize{T<:Real}(vec::Array{T, 1})\n",
      "    mag = magnitude(vec)\n",
      "    map(x -> x/mag, vec)\n",
      "end\n",
      "\n",
      "map(towerLocations(myBotConfig)) do tower\n",
      "    diff = abs(magnitude(tower - origin) - bedRadius(myBotConfig))\n",
      "    @assert diff < 1e-6\n",
      "    @assert tower[3] == 0\n",
      "    diff\n",
      "end"
     ],
     "language": "python",
     "metadata": {},
     "outputs": [
      {
       "metadata": {},
       "output_type": "pyout",
       "prompt_number": 15,
       "text": [
        "3-element Array{Float64,1}:\n",
        " 0.0\n",
        " 0.0\n",
        " 0.0"
       ]
      }
     ],
     "prompt_number": 15
    },
    {
     "cell_type": "code",
     "collapsed": false,
     "input": [
      "function distance2d(A, B)\n",
      "    sqrt(\n",
      "        (A[1] - B[1])^2 +\n",
      "        (A[2] - B[2])^2\n",
      "    )\n",
      "end"
     ],
     "language": "python",
     "metadata": {},
     "outputs": [
      {
       "metadata": {},
       "output_type": "pyout",
       "prompt_number": 16,
       "text": [
        "distance2d (generic function with 1 method)"
       ]
      }
     ],
     "prompt_number": 16
    },
    {
     "cell_type": "code",
     "collapsed": false,
     "input": [
      "function carriageHeights(printHeadPosition::Vector, config::AbstractDeltaBotConfig)\n",
      "    #First define three vectors from the origin to each support/drive pillar: A,B,C\n",
      "    ABC = towerLocations(config)\n",
      "    \n",
      "    #Define a vector from the origin to the desired location of the print head: W\n",
      "    W = printHeadPosition\n",
      "    \n",
      "    #Define the length of an arm: r\n",
      "    r = armLength(config)\n",
      "    \n",
      "    #Define the height of each carriage on its pillar: ha, hb, hc\n",
      "    #Then the horizontal distance from each pillar to the print head is:\n",
      "    #a = |W-A|\n",
      "    #b = |W-B|\n",
      "    #c = |W-C|\n",
      "    horizontalDistances = map(T -> distance2d(W, T), ABC)\n",
      "    \n",
      "    #Then, knowing the length of the arm, each height is defined as:\n",
      "    #ha = z + sqrt(r^2 \u2013 a^2)\n",
      "    #hb = z + sqrt(r^2 \u2013 b^2)\n",
      "    #hc = z + sqrt(r^2 \u2013 c^2)\n",
      "    map(horizontalDistances) do d\n",
      "        W[3] + sqrt(r^2 - d^2)\n",
      "    end\n",
      "end"
     ],
     "language": "python",
     "metadata": {},
     "outputs": [
      {
       "metadata": {},
       "output_type": "pyout",
       "prompt_number": 17,
       "text": [
        "carriageHeights (generic function with 1 method)"
       ]
      }
     ],
     "prompt_number": 17
    },
    {
     "cell_type": "code",
     "collapsed": false,
     "input": [
      "carriageHeights([0,0,0], myBotConfig)"
     ],
     "language": "python",
     "metadata": {},
     "outputs": [
      {
       "metadata": {},
       "output_type": "pyout",
       "prompt_number": 18,
       "text": [
        "3-element Array{Float64,1}:\n",
        " 0.194553\n",
        " 0.194553\n",
        " 0.194553"
       ]
      }
     ],
     "prompt_number": 18
    },
    {
     "cell_type": "code",
     "collapsed": false,
     "input": [
      "function testCarriageHeightsAt(location, botConfig)\n",
      "    ch = carriageHeights(location, botConfig)\n",
      "    tl = towerLocations(botConfig)\n",
      "    c = map([1:3]) do i\n",
      "        c = tl[i]\n",
      "        [c[1], c[2], ch[i]] - location\n",
      "    end\n",
      "    map(c) do c\n",
      "        @assert magnitude(c) < 1e6\n",
      "    end\n",
      "end"
     ],
     "language": "python",
     "metadata": {},
     "outputs": [
      {
       "metadata": {},
       "output_type": "pyout",
       "prompt_number": 19,
       "text": [
        "testCarriageHeightsAt (generic function with 1 method)"
       ]
      }
     ],
     "prompt_number": 19
    },
    {
     "cell_type": "code",
     "collapsed": false,
     "input": [
      "testCarriageHeightsAt(origin, myBotConfig)\n",
      "testCarriageHeightsAt([.01, .02, .03], myBotConfig)\n",
      "testCarriageHeightsAt([.06,.06,0], myBotConfig)\n",
      "testCarriageHeightsAt([-.05,.050,.070], myBotConfig)"
     ],
     "language": "python",
     "metadata": {},
     "outputs": [
      {
       "metadata": {},
       "output_type": "pyout",
       "prompt_number": 24,
       "text": [
        "3-element Array{Nothing,1}:\n",
        " nothing\n",
        " nothing\n",
        " nothing"
       ]
      }
     ],
     "prompt_number": 24
    },
    {
     "cell_type": "code",
     "collapsed": false,
     "input": [
      "type Sphere{T<:Real}\n",
      "    center::Array{T}\n",
      "    radius::Real\n",
      "end"
     ],
     "language": "python",
     "metadata": {},
     "outputs": [],
     "prompt_number": 25
    },
    {
     "cell_type": "code",
     "collapsed": false,
     "input": [
      "function trilaterate(spheres)\n",
      "    P = map(sph -> sph.center, spheres)\n",
      "    r = map(sph -> sph.radius, spheres)\n",
      "    basisX = normalize(P[2]-P[1])\n",
      "    i = dot(basisX, P[3]-P[1])\n",
      "    basisY = normalize(P[3]-P[1]-i*basisX)\n",
      "    basisZ = cross(basisX, basisY)\n",
      "    d = magnitude(P[2]-P[1])\n",
      "    j = dot(basisY, P[3]-P[1])\n",
      "    \n",
      "    x = (r[1]^2 - r[2]^2 + d^2)/(2*d)\n",
      "    y = (r[1]^2 - r[3]^2 + i^2 + j^2)/(2j) - (i/j)*x\n",
      "    z = sqrt(r[1]^2 - x^2 - y^2)\n",
      "    \n",
      "    withoutZ = P[1] + x*basisX + y*basisY\n",
      "    (withoutZ + z*basisZ, withoutZ - z*basisZ)\n",
      "end"
     ],
     "language": "python",
     "metadata": {},
     "outputs": [
      {
       "metadata": {},
       "output_type": "pyout",
       "prompt_number": 27,
       "text": [
        "trilaterate (generic function with 1 method)"
       ]
      }
     ],
     "prompt_number": 27
    },
    {
     "cell_type": "code",
     "collapsed": false,
     "input": [
      "mySpheres = [\n",
      "    Sphere{BigFloat}([ 0.0, 0.0, 0.0], BigFloat(1.5)),\n",
      "    Sphere{BigFloat}([ 1.0, 1.0, 1.0], BigFloat(2.0)),\n",
      "    Sphere{BigFloat}([ 1.0,-1.0,-1.0], BigFloat(2.0))\n",
      "]"
     ],
     "language": "python",
     "metadata": {},
     "outputs": [
      {
       "metadata": {},
       "output_type": "pyout",
       "prompt_number": 28,
       "text": [
        "3-element Array{Sphere{BigFloat},1}:\n",
        " Sphere{BigFloat}(BigFloat[0e+00,0e+00,0e+00],1.5e+00 with 256 bits of precision)\n",
        " Sphere{BigFloat}(BigFloat[1e+00,1e+00,1e+00],2e+00 with 256 bits of precision)  \n",
        " Sphere{BigFloat}(BigFloat[1e+00,-1e+00,-1e+00],2e+00 with 256 bits of precision)"
       ]
      }
     ],
     "prompt_number": 28
    },
    {
     "cell_type": "code",
     "collapsed": false,
     "input": [
      "intersections = trilaterate(mySpheres)"
     ],
     "language": "python",
     "metadata": {},
     "outputs": [
      {
       "metadata": {},
       "output_type": "pyout",
       "prompt_number": 29,
       "text": [
        "(BigFloat[6.25e-01,9.642030387838445305674237835680492026175257442800658247575255067879034052083989e-01,-9.642030387838445305674237835680492026175257442800658247575255067879034052083989e-01],BigFloat[6.25e-01,-9.642030387838445305674237835680492026175257442800658247575255067879034052083989e-01,9.642030387838445305674237835680492026175257442800658247575255067879034052083989e-01])"
       ]
      }
     ],
     "prompt_number": 29
    },
    {
     "cell_type": "code",
     "collapsed": false,
     "input": [
      "magnitude(intersections[1])"
     ],
     "language": "python",
     "metadata": {},
     "outputs": [
      {
       "metadata": {},
       "output_type": "pyout",
       "prompt_number": 30,
       "text": [
        "1.5e+00 with 256 bits of precision"
       ]
      }
     ],
     "prompt_number": 30
    },
    {
     "cell_type": "code",
     "collapsed": false,
     "input": [
      "magnitude(intersections[2])"
     ],
     "language": "python",
     "metadata": {},
     "outputs": [
      {
       "metadata": {},
       "output_type": "pyout",
       "prompt_number": 31,
       "text": [
        "1.5e+00 with 256 bits of precision"
       ]
      }
     ],
     "prompt_number": 31
    },
    {
     "cell_type": "code",
     "collapsed": false,
     "input": [
      "function printHeadLocation(carriages, config::AbstractDeltaBotConfig)\n",
      "    towers = towerLocations(config)\n",
      "    r = armLength(config)\n",
      "    zipped = zip(towers, carriages)\n",
      "    spheres = map(zipped) do x\n",
      "        locn = x[1]\n",
      "        height = x[2]\n",
      "        Sphere(locn + [0,0,height], r)\n",
      "    end\n",
      "    result, = trilaterate(spheres)\n",
      "    result\n",
      "end\n",
      "        "
     ],
     "language": "python",
     "metadata": {},
     "outputs": [
      {
       "metadata": {},
       "output_type": "pyout",
       "prompt_number": 55,
       "text": [
        "printHeadLocation (generic function with 1 method)"
       ]
      }
     ],
     "prompt_number": 55
    },
    {
     "cell_type": "code",
     "collapsed": false,
     "input": [
      "printHeadLocation([0.194,0.194,0.194], myBotConfig)"
     ],
     "language": "python",
     "metadata": {},
     "outputs": [
      {
       "metadata": {},
       "output_type": "pyout",
       "prompt_number": 56,
       "text": [
        "3-element Array{Float64,1}:\n",
        " -4.16334e-17\n",
        " -2.77556e-17\n",
        " -0.000553335"
       ]
      }
     ],
     "prompt_number": 56
    },
    {
     "cell_type": "code",
     "collapsed": false,
     "input": [
      "function testPrintHeadPositioningAt(location::Vector, botConf::AbstractDeltaBotConfig)\n",
      "    ch = carriageHeights(location, botConf)\n",
      "    actualLoc = printHeadLocation(ch, botConf)\n",
      "    @assert magnitude(actualLoc - location) < 1e-6\n",
      "end\n",
      "testPrintHeadPositioningAt(origin, myBotConfig)\n",
      "testPrintHeadPositioningAt([.01, .02, .03], myBotConfig)\n",
      "testPrintHeadPositioningAt([.06,.06,0], myBotConfig)\n",
      "testPrintHeadPositioningAt([-.05,.050,.070], myBotConfig)"
     ],
     "language": "python",
     "metadata": {},
     "outputs": [],
     "prompt_number": 57
    },
    {
     "cell_type": "code",
     "collapsed": false,
     "input": [
      "abstract AbstractLaserMount\n",
      "\n",
      "type Symmetric3LaserMount\n",
      "    distance::Real\n",
      "    angle::Real\n",
      "end"
     ],
     "language": "python",
     "metadata": {},
     "outputs": []
    },
    {
     "cell_type": "code",
     "collapsed": false,
     "input": [
      "function laserTransforms(mount::Symmetric3LaserMount)\n",
      "    angle = mount.angle\n",
      "    distance = mount.distance\n",
      "    map(0:2) do n\n",
      "        armAngle = n*120\n",
      "        \"rotate x * $angle translate z * $distance rotate y * $armAngle\"\n",
      "    end\n",
      "end"
     ],
     "language": "python",
     "metadata": {},
     "outputs": []
    },
    {
     "cell_type": "code",
     "collapsed": false,
     "input": [
      "function toPOVRay{T<:Real}(mount::Symmetric3LaserMount, pos::Array{T})\n",
      "    x = pos[1]\n",
      "    y = pos[2]\n",
      "    z = pos[3]\n",
      "    map(tf -> \"\"\"\n",
      "light_source {\n",
      "  y*5, Red * 100\n",
      "  cylinder\n",
      "  point_at <0,0,-1>\n",
      "  radius 0.01\n",
      "  falloff 0.02\n",
      "  tightness 0.025\n",
      "  photons {\n",
      "    reflection on\n",
      "    refraction on\n",
      "  }\n",
      "  parallel\n",
      "  point_at <0,0,-1>\n",
      "  $tf translate <$x,$y,$z>\n",
      "}\"\"\", laserTransforms(mount))\n",
      "end"
     ],
     "language": "python",
     "metadata": {},
     "outputs": []
    },
    {
     "cell_type": "code",
     "collapsed": false,
     "input": [
      "mnt = Symmetric3LaserMount(0.5, 10)\n",
      "toPOVRay(mnt,[0,0,0])"
     ],
     "language": "python",
     "metadata": {},
     "outputs": []
    },
    {
     "cell_type": "code",
     "collapsed": false,
     "input": [
      "type Chessboard\n",
      "    edgeLength::Real\n",
      "    numSquares::Real\n",
      "end\n",
      "\n",
      "function toPOVRay(board::Chessboard)\n",
      "    len = board.edgeLength/2\n",
      "    l2 = len*1.2\n",
      "    scale = board.edgeLength / board.numSquares\n",
      "    \"\"\"box {\n",
      "    <-$len,0,-$len>,<$len,0.001,$len>\n",
      "  texture {\n",
      "    pigment {\n",
      "      checker\n",
      "      color rgb<1,1,1>\n",
      "      color rgb<0.2,0.2,0.2>\n",
      "    } scale $scale\n",
      "  }\n",
      "}\n",
      "\n",
      "box {\n",
      "    <-$l2,-0.001,-$l2>,\n",
      "    <$l2, 0, $l2>\n",
      "    texture{ pigment{ color White} }\n",
      "}\"\"\"\n",
      "end"
     ],
     "language": "python",
     "metadata": {},
     "outputs": []
    },
    {
     "cell_type": "code",
     "collapsed": false,
     "input": [
      "board = Chessboard(2, 8)\n",
      "toPOVRay(board)"
     ],
     "language": "python",
     "metadata": {},
     "outputs": []
    },
    {
     "cell_type": "code",
     "collapsed": false,
     "input": [
      "abstract AbstractPrinterScene\n",
      "\n",
      "# When you just want the lasers for a certain\n",
      "# head position and laser mount.\n",
      "type FwdKPrinterScene{T<:Real}\n",
      "    board::Chessboard\n",
      "    mount::Symmetric3LaserMount\n",
      "    position::Array{T}\n",
      "end"
     ],
     "language": "python",
     "metadata": {},
     "outputs": []
    },
    {
     "cell_type": "code",
     "collapsed": false,
     "input": [
      "function toPOVRay(sc::FwdKPrinterScene)\n",
      "    lasers = toPOVRay(sc.mount, sc.position)\n",
      "    board = toPOVRay(sc.board)\n",
      "    string(\"\"\"#version 3.7;\n",
      "global_settings{assumed_gamma 1.0}\n",
      "#default{ finish{ ambient 0.01 diffuse 0.01 }}\n",
      "\n",
      "background { color rgb <0.005, 0.005, 0.005> }\n",
      "//------------------------------------------\n",
      "#include \"colors.inc\"\n",
      "#include \"textures.inc\"\n",
      "\n",
      "//------------------------------------------\n",
      "// camera ----------------------------------\n",
      "camera{ location  <0.0 , 1.0 ,-3.0>\n",
      "        look_at   <0.0 , 1.0 , 0.0>\n",
      "        right -x*image_width/image_height\n",
      "        angle 75 }\n",
      "\n",
      "// sun -------------------------------------\n",
      "    light_source{<1500,3000,-2500> color White}\n",
      "    \"\"\",lasers[1],\"\\n\",lasers[2],\"\\n\",lasers[3],\"\\n\",board)\n",
      "end"
     ],
     "language": "python",
     "metadata": {},
     "outputs": []
    },
    {
     "cell_type": "code",
     "collapsed": false,
     "input": [
      "scene = FwdKPrinterScene(board, mnt, [0,0,0])\n",
      "scStr = toPOVRay(scene)\n",
      "display(\"text/html\",\"<pre>$scStr</pre>\")"
     ],
     "language": "python",
     "metadata": {},
     "outputs": []
    },
    {
     "cell_type": "code",
     "collapsed": false,
     "input": [
      "fnm = string(\"/tmp/\",randstring(16))\n",
      "file = open(string(fnm,\".pov\"), \"w\")\n",
      "write(file, scStr)\n",
      "close(file)\n",
      "run(`povray +O\"$fnm.png\" -D $fnm.pov` .> DevNull)\n",
      "imread(string(fnm, \".png\"))"
     ],
     "language": "python",
     "metadata": {},
     "outputs": []
    },
    {
     "cell_type": "code",
     "collapsed": false,
     "input": [],
     "language": "python",
     "metadata": {},
     "outputs": []
    }
   ],
   "metadata": {}
  }
 ]
}