{
 "metadata": {
  "language": "Julia",
  "name": ""
 },
 "nbformat": 3,
 "nbformat_minor": 0,
 "worksheets": [
  {
   "cells": [
    {
     "cell_type": "markdown",
     "metadata": {},
     "source": [
      "Trilateration code based on [Wikipedia/Trilateration](https://en.wikipedia.org/wiki/Trilateration)."
     ]
    },
    {
     "cell_type": "code",
     "collapsed": false,
     "input": [
      "abstract AbstractDeltaBotConfig\n",
      "\n",
      "type BasicDeltaBotConfig <: AbstractDeltaBotConfig\n",
      "    armLength::Real\n",
      "    platformOffset::Real\n",
      "    bedRadius::Real\n",
      "end\n",
      "\n",
      "armLength(config::BasicDeltaBotConfig) = config.armLength\n",
      "platformOffset(config::BasicDeltaBotConfig) = config.platformOffset\n",
      "bedRadius(config::BasicDeltaBotConfig) = config.bedRadius"
     ],
     "language": "python",
     "metadata": {},
     "outputs": [
      {
       "metadata": {},
       "output_type": "pyout",
       "prompt_number": 1,
       "text": [
        "bedRadius (generic function with 1 method)"
       ]
      }
     ],
     "prompt_number": 1
    },
    {
     "cell_type": "code",
     "collapsed": false,
     "input": [
      "import Base.writemime\n",
      "\n",
      "type RequireJS end\n",
      "\n",
      "writemime(io::IO, ::MIME\"text/html\", x::RequireJS) = print(io, \"\"\"<script src=\"//cdnjs.cloudflare.com/ajax/libs/require.js/2.1.14/require.min.js\"></script>\"\"\")\n",
      "\n",
      "RequireJS()"
     ],
     "language": "python",
     "metadata": {},
     "outputs": [
      {
       "html": [
        "<script src=\"//cdnjs.cloudflare.com/ajax/libs/require.js/2.1.14/require.min.js\"></script>"
       ],
       "metadata": {},
       "output_type": "pyout",
       "prompt_number": 32,
       "text": [
        "RequireJS()"
       ]
      }
     ],
     "prompt_number": 32
    },
    {
     "cell_type": "code",
     "collapsed": false,
     "input": [
      "myBotConfig = BasicDeltaBotConfig(0.25, 0.033, (0.175-0.018))"
     ],
     "language": "python",
     "metadata": {},
     "outputs": [
      {
       "metadata": {},
       "output_type": "pyout",
       "prompt_number": 2,
       "text": [
        "BasicDeltaBotConfig(0.25,0.033,0.157)"
       ]
      }
     ],
     "prompt_number": 2
    },
    {
     "cell_type": "code",
     "collapsed": false,
     "input": [
      "function towerLocations(config::AbstractDeltaBotConfig)\n",
      "    radius = bedRadius(config)\n",
      "    map((n) -> n*pi/3, 0:2) |> x -> map(x) do x\n",
      "        radius * [sin(x), cos(x), 0]\n",
      "    end\n",
      "end"
     ],
     "language": "python",
     "metadata": {},
     "outputs": [
      {
       "metadata": {},
       "output_type": "pyout",
       "prompt_number": 3,
       "text": [
        "towerLocations (generic function with 1 method)"
       ]
      }
     ],
     "prompt_number": 3
    },
    {
     "cell_type": "code",
     "collapsed": false,
     "input": [
      "towerLocations(myBotConfig)"
     ],
     "language": "python",
     "metadata": {},
     "outputs": [
      {
       "metadata": {},
       "output_type": "pyout",
       "prompt_number": 4,
       "text": [
        "3-element Array{Array{Float64,1},1}:\n",
        " [0.0,0.157,0.0]       \n",
        " [0.135966,0.0785,0.0] \n",
        " [0.135966,-0.0785,0.0]"
       ]
      }
     ],
     "prompt_number": 4
    },
    {
     "cell_type": "code",
     "collapsed": false,
     "input": [
      "function carriageHeights(printHeadPosition::Vector, config::AbstractDeltaBotConfig)\n",
      "    #First define three vectors from the origin to each support/drive pillar: A,B,C\n",
      "    ABC = towerLocations(config)\n",
      "    \n",
      "    #Define a vector from the origin to the desired location of the print head: W\n",
      "    W = printHeadPosition\n",
      "    \n",
      "    #Define the length of an arm: r\n",
      "    r = armLength(config)\n",
      "    \n",
      "    #Define the height of each carriage on its pillar: ha, hb, hc\n",
      "    #Then the horizontal distance from each pillar to the print head is:\n",
      "    #a = |W-A|\n",
      "    #b = |W-B|\n",
      "    #c = |W-C|\n",
      "    horizontalDistance = map(ABC) do towerPosn\n",
      "        sqrt(\n",
      "            (W[1] - towerPosn[1])^2 + \n",
      "            (W[2] - towerPosn[2])^2\n",
      "        )\n",
      "    end\n",
      "    \n",
      "    #Then, knowing the length of the arm, each height is defined as:\n",
      "    #ha = z + sqrt(r^2 \u2013 a^2)\n",
      "    #hb = z + sqrt(r^2 \u2013 b^2)\n",
      "    #hc = z + sqrt(r^2 \u2013 c^2)\n",
      "    map(horizontalDistance) do a\n",
      "        printHeadPosition[3] + sqrt(r^2 - a^2)\n",
      "    end\n",
      "end"
     ],
     "language": "python",
     "metadata": {},
     "outputs": [
      {
       "metadata": {},
       "output_type": "pyout",
       "prompt_number": 5,
       "text": [
        "carriageHeights (generic function with 1 method)"
       ]
      }
     ],
     "prompt_number": 5
    },
    {
     "cell_type": "code",
     "collapsed": false,
     "input": [
      "carriageHeights([0,0,0], myBotConfig)"
     ],
     "language": "python",
     "metadata": {},
     "outputs": [
      {
       "metadata": {},
       "output_type": "pyout",
       "prompt_number": 6,
       "text": [
        "3-element Array{Float64,1}:\n",
        " 0.194553\n",
        " 0.194553\n",
        " 0.194553"
       ]
      }
     ],
     "prompt_number": 6
    },
    {
     "cell_type": "code",
     "collapsed": false,
     "input": [
      "type Sphere{T<:Real}\n",
      "    center::Array{T}\n",
      "    radius::Real\n",
      "end"
     ],
     "language": "python",
     "metadata": {},
     "outputs": [],
     "prompt_number": 7
    },
    {
     "cell_type": "code",
     "collapsed": false,
     "input": [
      "function trilaterateFromPlane(spheres)\n",
      "    # We're assuming that `a` is at the origin and `b` lies on the\n",
      "    # x-axis.\n",
      "    r = map(sph -> sph.radius, spheres)\n",
      "    \n",
      "    d = spheres[2].center[1]\n",
      "    i = spheres[3].center[1]\n",
      "    j = spheres[3].center[2]\n",
      "    \n",
      "    x = (r[1]^2 - r[2]^2 + d^2)/(2d)\n",
      "    \n",
      "    y = (r[1]^2 - r[3]^2 + i^2 + j^2)/(2j) - (i/j)x\n",
      "    \n",
      "    z = sqrt(r[1]^2 - x^2 - x^2)\n",
      "    (z, -z)\n",
      "end"
     ],
     "language": "python",
     "metadata": {},
     "outputs": [
      {
       "metadata": {},
       "output_type": "pyout",
       "prompt_number": 8,
       "text": [
        "trilaterateFromPlane (generic function with 1 method)"
       ]
      }
     ],
     "prompt_number": 8
    },
    {
     "cell_type": "code",
     "collapsed": false,
     "input": [
      "function magnitude{T<:Real}(vec::Array{T, 1})\n",
      "    sqrt( reduce(map(x -> x^2, vec)) do prev, next\n",
      "        prev + next\n",
      "    end)\n",
      "end\n",
      "function normalize{T<:Real}(vec::Array{T, 1})\n",
      "    mag = magnitude(vec)\n",
      "    map(x -> x/mag, vec)\n",
      "end"
     ],
     "language": "python",
     "metadata": {},
     "outputs": [
      {
       "metadata": {},
       "output_type": "pyout",
       "prompt_number": 9,
       "text": [
        "normalize (generic function with 1 method)"
       ]
      }
     ],
     "prompt_number": 9
    },
    {
     "cell_type": "code",
     "collapsed": false,
     "input": [
      "normalize([1,1,1])"
     ],
     "language": "python",
     "metadata": {},
     "outputs": [
      {
       "metadata": {},
       "output_type": "pyout",
       "prompt_number": 10,
       "text": [
        "3-element Array{Float64,1}:\n",
        " 0.57735\n",
        " 0.57735\n",
        " 0.57735"
       ]
      }
     ],
     "prompt_number": 10
    },
    {
     "cell_type": "code",
     "collapsed": false,
     "input": [
      "function trilaterate(spheres)\n",
      "    P = map(sph -> sph.center, spheres)\n",
      "    r = map(sph -> sph.radius, spheres)\n",
      "    basisX = normalize(P[2]-P[1])\n",
      "    i = dot(basisX, P[3]-P[1])\n",
      "    basisY = normalize(P[3]-P[1]-i*basisX)\n",
      "    basisZ = cross(basisX, basisY)\n",
      "    d = magnitude(P[2]-P[1])\n",
      "    j = dot(basisY, P[3]-P[1])\n",
      "    \n",
      "    x = (r[1]^2 - r[2]^2 + d^2)/(2*d)\n",
      "    y = (r[1]^2 - r[3]^2 + i^2 + j^2)/(2j) - (i/j)*x\n",
      "    z = sqrt(r[1]^2 - x^2 - y^2)\n",
      "    \n",
      "    withoutZ = P[1] + x*basisX + y*basisY\n",
      "    (withoutZ + z*basisZ, withoutZ - z*basisZ)\n",
      "end\n",
      "    "
     ],
     "language": "python",
     "metadata": {},
     "outputs": [
      {
       "metadata": {},
       "output_type": "pyout",
       "prompt_number": 24,
       "text": [
        "trilaterate (generic function with 1 method)"
       ]
      }
     ],
     "prompt_number": 24
    },
    {
     "cell_type": "code",
     "collapsed": false,
     "input": [
      "mySpheres = [\n",
      "    Sphere{BigFloat}([ 0.0, 0.0, 0.0], BigFloat(1.5)),\n",
      "    Sphere{BigFloat}([ 1.0, 1.0, 1.0], BigFloat(2.0)),\n",
      "    Sphere{BigFloat}([ 1.0,-1.0,-1.0], BigFloat(2.0))\n",
      "]"
     ],
     "language": "python",
     "metadata": {},
     "outputs": [
      {
       "metadata": {},
       "output_type": "pyout",
       "prompt_number": 25,
       "text": [
        "3-element Array{Sphere{BigFloat},1}:\n",
        " Sphere{BigFloat}(BigFloat[0e+00,0e+00,0e+00],1.5e+00 with 256 bits of precision)\n",
        " Sphere{BigFloat}(BigFloat[1e+00,1e+00,1e+00],2e+00 with 256 bits of precision)  \n",
        " Sphere{BigFloat}(BigFloat[1e+00,-1e+00,-1e+00],2e+00 with 256 bits of precision)"
       ]
      }
     ],
     "prompt_number": 25
    },
    {
     "cell_type": "code",
     "collapsed": false,
     "input": [
      "intersections = trilaterate(mySpheres)"
     ],
     "language": "python",
     "metadata": {},
     "outputs": [
      {
       "metadata": {},
       "output_type": "pyout",
       "prompt_number": 26,
       "text": [
        "(BigFloat[6.25e-01,9.642030387838445305674237835680492026175257442800658247575255067879034052083989e-01,-9.642030387838445305674237835680492026175257442800658247575255067879034052083989e-01],BigFloat[6.25e-01,-9.642030387838445305674237835680492026175257442800658247575255067879034052083989e-01,9.642030387838445305674237835680492026175257442800658247575255067879034052083989e-01])"
       ]
      }
     ],
     "prompt_number": 26
    },
    {
     "cell_type": "code",
     "collapsed": false,
     "input": [
      "magnitude(intersections[1])"
     ],
     "language": "python",
     "metadata": {},
     "outputs": [
      {
       "metadata": {},
       "output_type": "pyout",
       "prompt_number": 27,
       "text": [
        "1.5e+00 with 256 bits of precision"
       ]
      }
     ],
     "prompt_number": 27
    },
    {
     "cell_type": "code",
     "collapsed": false,
     "input": [
      "magnitude(intersections[2])"
     ],
     "language": "python",
     "metadata": {},
     "outputs": [
      {
       "metadata": {},
       "output_type": "pyout",
       "prompt_number": 28,
       "text": [
        "1.5e+00 with 256 bits of precision"
       ]
      }
     ],
     "prompt_number": 28
    },
    {
     "cell_type": "code",
     "collapsed": false,
     "input": [
      "function printHeadLocation(carriages, config::AbstractDeltaBotConfig)\n",
      "    towers = towerLocations(config)\n",
      "    r = armLength(config)\n",
      "    zipped = zip(towers, carriages)\n",
      "    spheres = map(zipped) do inf\n",
      "        locn = inf[1]\n",
      "        height = inf[2]\n",
      "        Sphere(locn + [0,0,height], r)\n",
      "    end\n",
      "    trilaterate(spheres)\n",
      "end\n",
      "        "
     ],
     "language": "python",
     "metadata": {},
     "outputs": [
      {
       "metadata": {},
       "output_type": "pyout",
       "prompt_number": 29,
       "text": [
        "printHeadLocation (generic function with 1 method)"
       ]
      }
     ],
     "prompt_number": 29
    },
    {
     "cell_type": "code",
     "collapsed": false,
     "input": [
      "printHeadLocation([0.194,0.194,0.194], myBotConfig)"
     ],
     "language": "python",
     "metadata": {},
     "outputs": [
      {
       "metadata": {},
       "output_type": "pyout",
       "prompt_number": 30,
       "text": [
        "([-4.16334e-17,-2.77556e-17,-0.000553335],[-4.16334e-17,-2.77556e-17,0.388553])"
       ]
      }
     ],
     "prompt_number": 30
    },
    {
     "cell_type": "code",
     "collapsed": false,
     "input": [
      "type DeltaBotState{T<:Real}\n",
      "    config::BasicDeltaBotConfig\n",
      "    carriageHeights::Array{T}\n",
      "    printHeadPosition::Vector\n",
      "end"
     ],
     "language": "python",
     "metadata": {},
     "outputs": [
      {
       "ename": "LoadError",
       "evalue": "invalid redefinition of constant DeltaBotState\nwhile loading In[37], in expression starting on line 1",
       "output_type": "pyerr",
       "traceback": [
        "invalid redefinition of constant DeltaBotState\nwhile loading In[37], in expression starting on line 1",
        ""
       ]
      }
     ],
     "prompt_number": 37
    },
    {
     "cell_type": "code",
     "collapsed": false,
     "input": [
      "function writemime(io::IO, ::MIME\"text/html\", printer::DeltaBotState)\n",
      "    divID = string(\"printer-viewer-\", randstring(16))\n",
      "    print(io, \"\"\"\n",
      "    <div id=\"$divID\"></div>\n",
      "    <script src=\"//cdnjs.cloudflare.com/ajax/libs/jquery/2.1.1/jquery.min.js\"></script>\n",
      "    <script src=\"//cdnjs.cloudflare.com/ajax/libs/d3/3.4.11/d3.min.js\"></script>\n",
      "    <script>\n",
      "    (function(){\n",
      "    var d3 = window.d3;\n",
      "    var WIDTH = 250,\n",
      "        HEIGHT = 250,\n",
      "        MARGIN = 20;\n",
      "    var svg = window.d3.select('$divID')\n",
      "        .append('svg')\n",
      "        .attr('width', 3*WIDTH + 4*MARGIN)\n",
      "        .attr('height', HEIGHT + 2*MARGIN)\n",
      "      .append('g')\n",
      "        .attr('transform', 'translate('+MARGIN+','+MARGIN+')');\n",
      "    \n",
      "    })();\n",
      "    </script>\n",
      "    \"\"\")\n",
      "end\n"
     ],
     "language": "python",
     "metadata": {},
     "outputs": [
      {
       "metadata": {},
       "output_type": "pyout",
       "prompt_number": 40,
       "text": [
        "writemime (generic function with 16 methods)"
       ]
      }
     ],
     "prompt_number": 40
    },
    {
     "cell_type": "code",
     "collapsed": false,
     "input": [
      "state = DeltaBotState(myBotConfig, [0.194,0.194,0.194], [0,0,0])"
     ],
     "language": "python",
     "metadata": {},
     "outputs": [
      {
       "html": [
        "<script src=\"//cdnjs.cloudflare.com/ajax/libs/three.js/r68/three.min.js\"></script>\n",
        "<script>\n",
        "(function(){\n",
        "console.log('THREE',window.THREE);\n",
        "})();\n",
        "</script>\n"
       ],
       "metadata": {},
       "output_type": "pyout",
       "prompt_number": 41,
       "text": [
        "DeltaBotState{Float64}(BasicDeltaBotConfig(0.25,0.033,0.157),[0.194,0.194,0.194],[0,0,0])"
       ]
      }
     ],
     "prompt_number": 41
    },
    {
     "cell_type": "code",
     "collapsed": false,
     "input": [],
     "language": "python",
     "metadata": {},
     "outputs": []
    }
   ],
   "metadata": {}
  }
 ]
}