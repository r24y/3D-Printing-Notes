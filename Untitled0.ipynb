{
 "metadata": {
  "language": "Julia",
  "name": ""
 },
 "nbformat": 3,
 "nbformat_minor": 0,
 "worksheets": [
  {
   "cells": [
    {
     "cell_type": "code",
     "collapsed": false,
     "input": [
      "@assert true"
     ],
     "language": "python",
     "metadata": {},
     "outputs": [],
     "prompt_number": 2
    },
    {
     "cell_type": "code",
     "collapsed": false,
     "input": [
      "run(`rm -rf /Users/mullery1/.julia/v0.3/.cache/`)"
     ],
     "language": "python",
     "metadata": {},
     "outputs": [],
     "prompt_number": 3
    },
    {
     "cell_type": "code",
     "collapsed": false,
     "input": [
      "Pkg.add(\"Images\")"
     ],
     "language": "python",
     "metadata": {},
     "outputs": [
      {
       "output_type": "stream",
       "stream": "stderr",
       "text": [
        "INFO: Upgrading ArrayViews: v0.4.6 => v0.4.8\n"
       ]
      },
      {
       "output_type": "stream",
       "stream": "stderr",
       "text": [
        "INFO: Upgrading BinDeps: v0.3.5 => v0.3.6\n"
       ]
      },
      {
       "output_type": "stream",
       "stream": "stderr",
       "text": [
        "INFO: Upgrading Color: v0.3.8 => v0.3.13\n"
       ]
      },
      {
       "output_type": "stream",
       "stream": "stderr",
       "text": [
        "INFO: Installing Compat v0.2.0\n"
       ]
      },
      {
       "output_type": "stream",
       "stream": "stderr",
       "text": [
        "INFO: Upgrading Contour: v0.0.4 => v0.0.6\n"
       ]
      },
      {
       "output_type": "stream",
       "stream": "stderr",
       "text": [
        "INFO: Upgrading DataArrays: v0.2.2 => v0.2.5\n"
       ]
      },
      {
       "output_type": "stream",
       "stream": "stderr",
       "text": [
        "INFO: Upgrading DataFrames: v0.5.9 => v0.5.12\n"
       ]
      },
      {
       "output_type": "stream",
       "stream": "stderr",
       "text": [
        "INFO: Upgrading DataStructures: v0.3.2 => v0.3.5\n"
       ]
      },
      {
       "output_type": "stream",
       "stream": "stderr",
       "text": [
        "INFO: Upgrading Distances: v0.1.1 => v0.2.0\n"
       ]
      },
      {
       "output_type": "stream",
       "stream": "stderr",
       "text": [
        "INFO: Upgrading Distributions: v0.5.4 => v0.6.1\n"
       ]
      },
      {
       "output_type": "stream",
       "stream": "stderr",
       "text": [
        "INFO: Upgrading Homebrew: v0.1.10 => v0.1.11\n"
       ]
      },
      {
       "output_type": "stream",
       "stream": "stderr",
       "text": [
        "INFO: Upgrading IJulia: v0.1.15 => v0.1.16\n"
       ]
      },
      {
       "output_type": "stream",
       "stream": "stderr",
       "text": [
        "INFO: Installing Images v0.4.22\n"
       ]
      },
      {
       "output_type": "stream",
       "stream": "stderr",
       "text": [
        "INFO: Upgrading Iterators: v0.1.6 => v0.1.7\n"
       ]
      },
      {
       "output_type": "stream",
       "stream": "stderr",
       "text": [
        "INFO: Upgrading JSON: v0.3.8 => v0.3.9\n"
       ]
      },
      {
       "output_type": "stream",
       "stream": "stderr",
       "text": [
        "INFO: Upgrading Lint: v0.1.22 => v0.1.46\n"
       ]
      },
      {
       "output_type": "stream",
       "stream": "stderr",
       "text": [
        "INFO: Installing Meshes v0.0.4\n"
       ]
      },
      {
       "output_type": "stream",
       "stream": "stderr",
       "text": [
        "INFO: Upgrading Nettle: v0.1.6 => v0.1.7\n"
       ]
      },
      {
       "output_type": "stream",
       "stream": "stderr",
       "text": [
        "INFO: Upgrading PDMats: v0.2.4 => v0.3.1\n"
       ]
      },
      {
       "output_type": "stream",
       "stream": "stderr",
       "text": [
        "INFO: Upgrading Reactive: v0.1.8 => v0.1.9\n"
       ]
      },
      {
       "output_type": "stream",
       "stream": "stderr",
       "text": [
        "INFO: Upgrading Reexport: v0.0.1 => v0.0.2\n"
       ]
      },
      {
       "output_type": "stream",
       "stream": "stderr",
       "text": [
        "INFO: Upgrading StatsBase: v0.6.6 => v0.6.10\n"
       ]
      },
      {
       "output_type": "stream",
       "stream": "stderr",
       "text": [
        "INFO: Upgrading ZMQ: v0.1.13 => v0.1.15\n"
       ]
      },
      {
       "output_type": "stream",
       "stream": "stderr",
       "text": [
        "INFO: Removing LightXML v0.1.6\n",
        "INFO: Removing ZipFile v0.2.2\n"
       ]
      },
      {
       "output_type": "stream",
       "stream": "stderr",
       "text": [
        "INFO: Building Homebrew\n"
       ]
      },
      {
       "output_type": "stream",
       "stream": "stderr",
       "text": [
        "From https://github.com/Homebrew/homebrew\n",
        "   934a32f..9c255d7  master     -> origin/master\n"
       ]
      },
      {
       "output_type": "stream",
       "stream": "stdout",
       "text": [
        "HEAD is now at 9c255d7 wireshark devel 1.99.0\n"
       ]
      },
      {
       "output_type": "stream",
       "stream": "stderr",
       "text": [
        "From https://github.com/staticfloat/homebrew-juliadeps\n",
        "   73c6cfe..f7418dd  master     -> origin/master\n"
       ]
      },
      {
       "output_type": "stream",
       "stream": "stdout",
       "text": [
        "HEAD is now at f7418dd Bottle hwloc\n"
       ]
      },
      {
       "output_type": "stream",
       "stream": "stderr",
       "text": [
        " * [new branch]      libgfortran_changes -> origin/libgfortran_changes\n"
       ]
      },
      {
       "output_type": "stream",
       "stream": "stderr",
       "text": [
        "INFO: Building Nettle\n"
       ]
      },
      {
       "output_type": "stream",
       "stream": "stderr",
       "text": [
        "INFO: Building ZMQ\n"
       ]
      },
      {
       "output_type": "stream",
       "stream": "stderr",
       "text": [
        "INFO: Building IJulia\n"
       ]
      },
      {
       "output_type": "stream",
       "stream": "stderr",
       "text": [
        "Found IPython version 1.1.0 ... ok.\n"
       ]
      },
      {
       "output_type": "stream",
       "stream": "stderr",
       "text": [
        "Creating julia profile in IPython...\n"
       ]
      },
      {
       "output_type": "stream",
       "stream": "stderr",
       "text": [
        "Changing KernelManager.kernel_cmd to [\"/Applications/Julia-0.3.0.app/Contents/Resources/julia/bin/julia\", \"-i\", \"-F\", \"/Users/mullery1/.julia/v0.3/IJulia/src/kernel.jl\", \"{connection_file}\"] in ipython_config.py...\n"
       ]
      },
      {
       "output_type": "stream",
       "stream": "stderr",
       "text": [
        "(Existing IPythonWidget.execute_on_complete_input setting in ipython_qtconsole_config.py is untouched.)\n",
        "(Existing FrontendWidget.lexer_class setting in ipython_qtconsole_config.py is untouched.)\n",
        "(Existing NotebookApp.port setting in ipython_notebook_config.py is untouched.)\n",
        "(Existing ipynblogo.png file untouched.)"
       ]
      },
      {
       "output_type": "stream",
       "stream": "stderr",
       "text": [
        "\n",
        "(Existing ipynblogo.svg file untouched.)\n",
        "(Existing favicon.ico file untouched.)\n",
        "(Existing custom.js file untouched.)\n",
        "(Existing julia.js file untouched.)\n"
       ]
      },
      {
       "output_type": "stream",
       "stream": "stderr",
       "text": [
        "INFO: Building Images\n"
       ]
      },
      {
       "output_type": "stream",
       "stream": "stdout",
       "text": [
        "==> Installing imagemagick from staticfloat/homebrew-juliadeps\n",
        "==> Installing dependencies for imagemagick: staticfloat/juliadeps/libtool, fftw, jpeg, libpng, freetype\n",
        "==> Installing imagemagick dependency: staticfloat/juliadeps/libtool\n",
        "==> Downloading https://juliabottles.s3.amazonaws.com/libtool-2.4.2.mavericks.bottle.4.tar.gz\n"
       ]
      },
      {
       "output_type": "stream",
       "stream": "stdout",
       "text": [
        "==> Pouring libtool-2.4.2.mavericks.bottle.4.tar.gz\n"
       ]
      },
      {
       "output_type": "stream",
       "stream": "stdout",
       "text": [
        "==> Caveats\n",
        "In order to prevent conflicts with Apple's own libtool we have prepended a \"g\"\n",
        "so, you have instead: glibtool and glibtoolize.\n",
        "==> Summary\n"
       ]
      },
      {
       "output_type": "stream",
       "stream": "stdout",
       "text": [
        "\ud83c\udf7a  /Users/mullery1/.julia/v0.3/Homebrew/deps/usr/Cellar/libtool/2.4.2: 69 files, 2.5M\n",
        "==> Installing imagemagick dependency: fftw\n",
        "==> Downloading https://downloads.sf.net/project/machomebrew/Bottles/fftw-3.3.4.mavericks.bottle.2.tar.gz\n"
       ]
      },
      {
       "output_type": "stream",
       "stream": "stdout",
       "text": [
        "==> Pouring fftw-3.3.4.mavericks.bottle.2.tar.gz\n"
       ]
      },
      {
       "output_type": "stream",
       "stream": "stdout",
       "text": [
        "\ud83c\udf7a  /Users/mullery1/.julia/v0.3/Homebrew/deps/usr/Cellar/fftw/3.3.4: 39 files, 11M\n",
        "==> Installing imagemagick dependency: jpeg\n",
        "==> Downloading https://downloads.sf.net/project/machomebrew/Bottles/jpeg-8d.mavericks.bottle.2.tar.gz\n"
       ]
      },
      {
       "output_type": "stream",
       "stream": "stdout",
       "text": [
        "==> Pouring jpeg-8d.mavericks.bottle.2.tar.gz\n"
       ]
      },
      {
       "output_type": "stream",
       "stream": "stdout",
       "text": [
        "\ud83c\udf7a  /Users/mullery1/.julia/v0.3/Homebrew/deps/usr/Cellar/jpeg/8d: 18 files, 780K\n",
        "==> Installing imagemagick dependency: libpng\n",
        "==> Downloading https://downloads.sf.net/project/machomebrew/Bottles/libpng-1.6.14.mavericks.bottle.tar.gz\n"
       ]
      },
      {
       "output_type": "stream",
       "stream": "stdout",
       "text": [
        "==> Pouring libpng-1.6.14.mavericks.bottle.tar.gz\n"
       ]
      },
      {
       "output_type": "stream",
       "stream": "stdout",
       "text": [
        "\ud83c\udf7a  /Users/mullery1/.julia/v0.3/Homebrew/deps/usr/Cellar/libpng/1.6.14: 17 files, 1.2M\n",
        "==> Installing imagemagick dependency: freetype\n",
        "==> Downloading https://downloads.sf.net/project/machomebrew/Bottles/freetype-2.5.3_1.mavericks.bottle.1.tar.gz\n"
       ]
      },
      {
       "output_type": "stream",
       "stream": "stdout",
       "text": [
        "==> Pouring freetype-2.5.3_1.mavericks.bottle.1.tar.gz\n"
       ]
      },
      {
       "output_type": "stream",
       "stream": "stdout",
       "text": [
        "\ud83c\udf7a  /Users/mullery1/.julia/v0.3/Homebrew/deps/usr/Cellar/freetype/2.5.3_1: 60 files, 2.5M\n",
        "==> Installing imagemagick\n",
        "==> Downloading https://juliabottles.s3.amazonaws.com/imagemagick-6.8.9-1.mavericks.bottle.tar.gz\n"
       ]
      },
      {
       "output_type": "stream",
       "stream": "stdout",
       "text": [
        "==> Pouring imagemagick-6.8.9-1.mavericks.bottle.tar.gz\n"
       ]
      },
      {
       "output_type": "stream",
       "stream": "stdout",
       "text": [
        "\ud83c\udf7a  /Users/mullery1/.julia/v0.3/Homebrew/deps/usr/Cellar/imagemagick/6.8.9-1: 1432 files, 22M\n"
       ]
      },
      {
       "output_type": "stream",
       "stream": "stdout",
       "text": [
        "To relink: brew unlink imagemagick && brew link imagemagick\n"
       ]
      },
      {
       "output_type": "stream",
       "stream": "stderr",
       "text": [
        "INFO: Package database updated\n"
       ]
      }
     ],
     "prompt_number": 7
    },
    {
     "cell_type": "code",
     "collapsed": false,
     "input": [
      "map([4:6]) do x, i\n",
      "    i\n",
      "end"
     ],
     "language": "python",
     "metadata": {},
     "outputs": [
      {
       "ename": "LoadError",
       "evalue": "wrong number of arguments\nwhile loading In[4], in expression starting on line 1",
       "output_type": "pyerr",
       "traceback": [
        "wrong number of arguments\nwhile loading In[4], in expression starting on line 1",
        "",
        " in anonymous at In[4]:2",
        " in map at abstractarray.jl:1328"
       ]
      }
     ],
     "prompt_number": 4
    },
    {
     "cell_type": "code",
     "collapsed": false,
     "input": [],
     "language": "python",
     "metadata": {},
     "outputs": []
    }
   ],
   "metadata": {}
  }
 ]
}