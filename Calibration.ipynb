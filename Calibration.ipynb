{
 "metadata": {
  "language": "Julia",
  "name": ""
 },
 "nbformat": 3,
 "nbformat_minor": 0,
 "worksheets": [
  {
   "cells": [
    {
     "cell_type": "markdown",
     "metadata": {},
     "source": [
      "Adapted from [calibration.wxm](https://github.com/hercek/Marlin/blob/Marlin_v1/calibration.wxm)."
     ]
    },
    {
     "cell_type": "heading",
     "level": 1,
     "metadata": {},
     "source": [
      "Rostock Calibration"
     ]
    },
    {
     "cell_type": "markdown",
     "metadata": {},
     "source": [
      "Copyright \u00a9 2014 Peter Hercek and Ryan Muller.\n",
      "\n",
      "You can use, modify, and redistribute this under GNU GENERAL PUBLIC LICENSE Version 3."
     ]
    },
    {
     "cell_type": "markdown",
     "metadata": {},
     "source": [
      "This document helps to find proper values for these firmware parameters: tower positions, diagonal rod length,\n",
      "and top endstop position offsets. Errors in these firmware parameters can be fixed perfectly provided the\n",
      "assumptions bellow are valid.\n",
      "\n",
      "* We assume that the towers are parallel. Ensuring that the towers are parallel is tricky. Drill both top and\n",
      "bottom plates at once. This ensures top and bottom tower positions are exactly the same. That is the easy\n",
      "part. Then do not twist top plate with respect to the bottom one. They are not twisted if diagonals have the\n",
      "same length.\n",
      "\n",
      "* We assume that all your diagonal rods have the same length (although the common length is not known\n",
      "precisely). You can easily achieve this with a jig. (Note: If your diagonal rods do not have the same length it will\n",
      "introduce rotations to your platform. These will not have that big impact on z-height but will have significant\n",
      "impact on x/y precision.)\n",
      "\n",
      "* We assume that the bed is perpendicular to the towers. Making sure the bed is perpendicular is harder but\n",
      "callibration can partially fix it with the top endstop adjustements. This compensation will not be perfect. For\n",
      "example, if your bed is 1 mm higer on one side (compared to the other side) then this will lead to errors smaller\n",
      "than about 0.3 mm, possibly much smaller. I did not investigate this in details. This compensation using top\n",
      "endstops will also lead to your prints being as skewed as your bed is.\n",
      "\n",
      "* We assume no other auto level is active (e.g. Johann's auto leveling cannot be enabled)."
     ]
    },
    {
     "cell_type": "markdown",
     "metadata": {},
     "source": [
      "A note on manual leveling (i.e. doing the same as this notebook without running it):\n",
      "\n",
      "1. level at the tower bases by adjusting endstops\n",
      "\n",
      "2. level the points at the far end of a tower base (i.e. between the other two towers); these far points\n",
      "   should be located significantly behind the line connecting the other two virtual tower bases\n",
      "   \n",
      "  * moving tower along bed radius has the biggest z-height impact on the oposite side of the tower\n",
      "      (if it is symetricaly high/low on the oposite side then you need to move it nearer/further in firmware)\n",
      "  * moving tower perpendiculary to bed radius has the biggest z-height impact just to the left/right of\n",
      "     the tower - one side is going up and the other side is going down\n",
      "     (if e.g. left side is up and right is down then you need to move tower in firmware to the right)\n",
      "  * if all the points opposite of all towers have the same z-height error then adjust delta radius\n",
      "      (if they are high/low then you need to decrease/increase delta radius in firmware)\n",
      "3. level the center by adjusting diagonal rod length or delta radius\n",
      "  * diagonal rod length: if head is too high/low in the center then you need to increase/decrease the length\n",
      "  * delta radius: if head is too high/low in the center then you need to increase/decrease delta radius\n",
      "    \n",
      "This manual leveling is very iterative. If you fix something a bit, the fix will have impact on z-heights on\n",
      "all the other positions. So you must start from the beginning after each fix. It is best to fix the biggest\n",
      "errors first. If you cannot decide which one is the biggest one then go in the order of the points above."
     ]
    },
    {
     "cell_type": "markdown",
     "metadata": {},
     "source": [
      "Lets go back to this math supported approach.\n",
      "In this document:\n",
      "\n",
      "* coordinates are referred to as `x`,`y`,`z`;\n",
      "* towers are referred to as `a`,`b`,`c`;\n",
      "* diagonal rod length is `r`;\n",
      "* imprecise values (because of incorrect firmware parameters) have prefix `i`;\n",
      "* tower carriage position offsets are marked as `\u03b1`, `\u03b2`, `\u03b3` for towers `a`, `b`, `c` respectively;\n",
      "* tower carriage positions (coordinates on towers) are `ta`, `tb`, `tc`.\n",
      "\n",
      "We want to make our coordinate system as fixed as possible. Lets mark `(x,y)` coordinates of towers `(a, b, c)` as\n",
      "`xa`, `ya`, `xb`, `yb`, `xc`, `yc`. We place the coordinate system so that:  `xa = -xb`, `ya = yb`, `yc = -2*ya`. This will allow us to define tower positions with only 3 numbers. If the base plate is done precisely then it will be the same as the\n",
      "firmware defaults computed from `DELTA_RADIUS` (see how tower positions are computed from delta radius\n",
      "in Configuration.h)."
     ]
    },
    {
     "cell_type": "markdown",
     "metadata": {},
     "source": [
      "Define your geometry as specified in the firmware here:"
     ]
    },
    {
     "cell_type": "raw",
     "metadata": {},
     "source": [
      "ir : 250.590 $\n",
      "ixa : -107.178 $\n",
      "iya : -62.015 $\n",
      "ixc : -1.687 $"
     ]
    },
    {
     "cell_type": "markdown",
     "metadata": {},
     "source": [
      "These tower positions and their errors are fixed because of the limitations on how we place our coordinate system."
     ]
    },
    {
     "cell_type": "raw",
     "metadata": {},
     "source": [
      "ixb : - ixa $\n",
      "xb : -xa $\n",
      "iyb : iya $\n",
      "yb : ya $\n",
      "iyc : -2*iya $\n",
      "yc : -2*ya $"
     ]
    },
    {
     "cell_type": "markdown",
     "metadata": {},
     "source": [
      "Equations for the firmware. These equations work with imprecise firmware parammeters which leads to incorrect\n",
      "`z` value at heatbed (and also incorrect `x` and `y` values - depends on the exact path we are approaching the\n",
      "heatbed). We need these equations to get `ta`, `tb`, `tc` from them but we are not going to really use them since\n",
      "firmware will report `ta`, `tb`, `tc` directly when we query the current position (`M114`)). Here they are just for reference."
     ]
    },
    {
     "cell_type": "raw",
     "metadata": {},
     "source": [
      "Acur : (ix-ixa)^2 + (iy-iya)^2 + (iz-ta)^2 - ir^2 = 0 $\n",
      "Bcur : (ix-ixb)^2 + (iy-iyb)^2 + (iz-tb)^2 - ir^2 = 0 $\n",
      "Ccur : (ix-ixc)^2 + (iy-iyc)^2 + (iz-tc)^2 - ir^2 = 0 $"
     ]
    },
    {
     "cell_type": "markdown",
     "metadata": {},
     "source": [
      "Equations for precise towerPositions/diagonalRod with carriage positions on towers `(ta,tb,tc)` adjusted by\n",
      "offsets `(\u03b1,\u03b2,\u03b3)`. These equations are valid when the head is at the heatbed `(z=0)`."
     ]
    },
    {
     "cell_type": "raw",
     "metadata": {},
     "source": [
      "A : (x-xa)^2 + (y-ya)^2 + (ta+\u03b1)^2 - r^2 = 0 $\n",
      "B : (x-xb)^2 + (y-yb)^2 + (tb+\u03b2)^2 - r^2 = 0 $\n",
      "C : (x-xc)^2 + (y-yc)^2 + (tc+\u03b3)^2 - r^2 = 0 $"
     ]
    },
    {
     "cell_type": "markdown",
     "metadata": {},
     "source": [
      "Lets precisely tie `(r,xa,xb,xc,ya,yb,yc,\u03b1,\u03b2,\u03b3)` for one `(ta,tb,tc)` representing one point on heatbed.\n",
      "We do it by getting rid of `x` and `y`."
     ]
    },
    {
     "cell_type": "raw",
     "metadata": {},
     "source": [
      "XEq : solve([A-B], [x]) ;\n",
      "YEq : solve([A+B-2*C], [y]) ;\n",
      "ZEq : subst( rhs(XEq[1]), x, subst(rhs(YEq[1]), y, C) ) ;"
     ]
    },
    {
     "cell_type": "markdown",
     "metadata": {},
     "source": [
      "Now we will measure errors in at least 7 positions `(x,y)`.\n",
      "\n",
      "The best points are the center, near each tower base, and most far away from each tower base. Select the\n",
      "non-center points as far away from the center as possible. The measurement will be done by touching printhead\n",
      "with the heatbed at these points and reading out the carriage positions on towers as reported by firmware `(ta,tb,tc)`.\n",
      "More positions may be needed If you would want to optimize both the diagonal rod length and the delta radius at once.\n",
      "\n",
      "Only the 7 point option was tested so far.\n",
      "\n",
      "The data format is `[[ta,tb,tc]... [...]...]`. Define the measured data here:"
     ]
    },
    {
     "cell_type": "raw",
     "metadata": {},
     "source": [
      "m :\n",
      "[[227.34, 227.34, 227.21]\n",
      ",[258.65, 170.95, 171.55]\n",
      ",[233.28, 233.28, 127.56]\n",
      ",[170.94, 258.64, 169.76]\n",
      ",[127.96, 233.20, 232.52]\n",
      ",[170.82, 170.82, 258.62]\n",
      ",[233.19, 127.95, 233.80]\n",
      "] $"
     ]
    },
    {
     "cell_type": "markdown",
     "metadata": {},
     "source": [
      "Adjust cariage positions on towers by z-probe measured z-heights at positions nearest to the tower bases.\n",
      "The z-heights are `zta`, `ztb`, `ztc`. You can do this if you can measure the points as near the tower bases that\n",
      "the corresponding diagonal rod is almost vertical. Otherwise rather set them all to zero. This is done to make\n",
      "`lbfgs` later more stable, but it is not sure how much it really helps. The point is that we search for the endstop\n",
      "adjustements `(\u03b1,\u03b2,\u03b3)` first and if we make this search very easy it should not influence the next search for the\n",
      "tower positions (i.e. also the delta radius) that much.\n",
      "It is probably best just to try first with `(zta,ztb,ztc)` set to `(0,0,0)` and only fiddle with it more if we have\n",
      "convergence problems later."
     ]
    },
    {
     "cell_type": "raw",
     "metadata": {},
     "source": [
      "zta : 9.49 $\n",
      "ztb : 9.49 $\n",
      "ztc : 9.49 $\n",
      "mm : map( lambda([lst], [ lst[1]-zta, lst[2]-ztb, lst[3]-ztc ]), m) $"
     ]
    },
    {
     "cell_type": "markdown",
     "metadata": {},
     "source": [
      "We define function `FAll` which is sum of squares of `ZEq` over all the measured data points. This the error\n",
      "function we want to minimize. If we can get it to zero for some vector `[r,xa,ya,xc,\u03b1,\u03b2,\u03b3]`, then that vector\n",
      "should represent the precise firmware configuration parameters."
     ]
    },
    {
     "cell_type": "raw",
     "metadata": {},
     "source": [
      "define( ZFn(ta, tb, tc), lhs(ZEq)^2 ) ;\n",
      "define( FOne(r,xa,ya,xc,\u03b1,\u03b2,\u03b3), ''( funmake(ZFn,mm[1]) ) ) $\n",
      "define( FAll(r,xa,ya,xc,\u03b1,\u03b2,\u03b3), ''( lsum( funmake(ZFn,l), l, mm ) ) ) $"
     ]
    },
    {
     "cell_type": "markdown",
     "metadata": {},
     "source": [
      "OK, and here we go to find the best firmware parameters `(r, xa, ya, xc, \u03b1, \u03b2, \u03b3)`. We will do it by minimizing FAll."
     ]
    },
    {
     "cell_type": "raw",
     "metadata": {},
     "source": [
      "load( lbfgs ) $"
     ]
    },
    {
     "cell_type": "markdown",
     "metadata": {},
     "source": [
      "A quick note about `lbfgs(F, x, x0, \u03b5, printFlags)` failures. It is a newton like method for finding an extreme.\n",
      "So it goes along gradient till the gradient is not small enough. The small enough is defined like this: $\\left| \\nabla F(x) \\right| \\le \\epsilon \\max(1, \\left|x\\right|)$\n",
      "\n",
      "So (for the algorithm to finish) the gradient change must be really small if also the point `x` (at which we are\n",
      "computing $F$) is small (near the coordinate centre). If the condition on gradient size is really tough then the\n",
      "line search may fail (maybe because of underflow, or maybe because there is no extreme near the x or\n",
      "maybe something else). Slowly increase the value of  `\u03b5` (the second to the last) argument of `lbfsg` untill it\n",
      "finds something. The best `\u03b5` is the smallest one for which a result is found."
     ]
    },
    {
     "cell_type": "markdown",
     "metadata": {},
     "source": [
      "First we try to compute all the precise parameters at once. In theory this may work especially if the heatbed\n",
      "z-heights were measured near enough the edge of the available built volume. That means the heatbed\n",
      "must be big enough to extend to the theoretical edge of the built area. If so we may get the correct\n",
      "firmware parameters in one step. Or not. The convergence properties are not well know as of now.\n",
      "The equation should have only two real minimums. One corresponing to the diagonal rods pointing down and\n",
      "small absolute values of  `(\u03b1,\u03b2,\u03b3)` and one corresponding to the diagonal rods poining up and huge absolute\n",
      "values of `(\u03b1,\u03b2,\u03b3)`. Since our starting point has `\u03b1=\u03b2=\u03b3=0` we should get to the proper minimum. Unfortunately\n",
      "this did not work well with our 7 point heatbed probing. The result tended to have too big values for $r$. Notice\n",
      "that we can measure diagonal rod with precision of \u00b11 mm easily so if the result claims it should be 2 mm\n",
      "longer than what we measured, then it is obviously wrong. The probable reason for bad convegence is that\n",
      "we try to optimize both the tower positions and the diagonal rod length at once. The tower positions contain\n",
      "the delta radius (corrected for tower radial/diagonal distance errors if the towers are not precisely positioned).\n",
      "Both errors in the diagonal rod length and the delta radius lead to nicely concave/convex heatbed $z$-position\n",
      "error (looks like a tip of ellipsoid or paraboloid). These two can partialy compensate for each other especially\n",
      "when measurements are not done far enough from center. That means that their convergence (when\n",
      "optimized) together may be poor. They can drift from their precise values together more easily. This drift will\n",
      "result in incorrect size (well and also incorrect shape because the error is not linear) of the printed objects.\n",
      "Incorrect steps/mm setting for the tower carriages results in the similar kind of error too. That means, we do\n",
      "not optimize $r$ and $(xa,yz,xc)$ at once, at least for now.\n",
      "So our function does not converge as well as we would like. Probably because of our particular 7-point probing,\n",
      "diagonal rod length / delta radius issue, and using imprecise values for the measured z-heights at headbed\n",
      "(imprecise microswitches, steppers do not move continously, `M114` reports tower positions with only 2 decimal\n",
      "palces). Since the order of equation is six, these no so big measurement errors can have significant consequences\n",
      "together. Other option is that there is an error in our mathematical model, or there are errors in firmware,\n",
      ".... or many other options.\n",
      "We skipped this direct computation. But you can try. Especially if you probed your points far enough from the\n",
      "center. Maybe a miracle will happen."
     ]
    },
    {
     "cell_type": "raw",
     "metadata": {},
     "source": [
      "RV : lbfgs( FAll(r,xa,ya,xc,\u03b1,\u03b2,\u03b3), [r,xa,ya,xc,\u03b1,\u03b2,\u03b3], [ir,ixa,iya,ixc,0,0,0], 0.0001, [1,1]);"
     ]
    },
    {
     "cell_type": "markdown",
     "metadata": {},
     "source": [
      "So we skipped the direct computation above and instead computed the vector `[r,xa,ya,xc,\u03b1,\u03b2,\u03b3]` in parts\n",
      "below. First `[\u03b1,\u03b2,\u03b3]` part, then `[xa, ya, xc]` part, and `[r]` at the end.\n",
      "After the computation we fixed the firmware parameters with computed `[r,xa,ya,xc,\u03b1,\u03b2,\u03b3]` and measured\n",
      "a new set of points `m` (see above), and then computed again, and fixed, and computed ...\n",
      "When we started with bed leveling errors within 0.2 mm, we needed 3 loops to achieve bed leveling within\n",
      "0.05 mm. We did not bother more."
     ]
    },
    {
     "cell_type": "raw",
     "metadata": {},
     "source": [
      "RV\u03b1\u03b2\u03b3 : lbfgs( FAll(ir,ixa,iya,ixc,\u03b1,\u03b2,\u03b3), [\u03b1,\u03b2,\u03b3], [0,0,0], 0.0000001, [1,1]);"
     ]
    },
    {
     "cell_type": "raw",
     "metadata": {},
     "source": [
      "sublis( append([r=ir,xa=ixa,ya=iya,xc=ixc],RV\u03b1\u03b2\u03b3), FOne(r,xa,ya,xc,\u03b1,\u03b2,\u03b3) );"
     ]
    },
    {
     "cell_type": "raw",
     "metadata": {},
     "source": [
      "RVxayaxc : lbfgs( sublis( RV\u03b1\u03b2\u03b3, FAll(ir,xa,ya,xc,\u03b1,\u03b2,\u03b3) ), [xa,ya,xc], [ixa,iya,ixc], 0.0001, [1,1]);"
     ]
    },
    {
     "cell_type": "raw",
     "metadata": {},
     "source": [
      "sublis( append([r=ir], RVxayaxc, RV\u03b1\u03b2\u03b3), FOne(r,xa,ya,xc,\u03b1,\u03b2,\u03b3) );"
     ]
    },
    {
     "cell_type": "raw",
     "metadata": {},
     "source": [
      "RVr : lbfgs( sublis( append(RVxayaxc,RV\u03b1\u03b2\u03b3), FAll(r,xa,ya,xc,\u03b1,\u03b2,\u03b3) ), [r], [ir], 0.0000000001, [1,1]);"
     ]
    },
    {
     "cell_type": "raw",
     "metadata": {},
     "source": [
      "sublis( append(RVr, RVxayaxc, RV\u03b1\u03b2\u03b3), FOne(r,xa,ya,xc,\u03b1,\u03b2,\u03b3) );"
     ]
    },
    {
     "cell_type": "raw",
     "metadata": {},
     "source": [
      "append( RVr, RVxayaxc, RV\u03b1\u03b2\u03b3 );"
     ]
    }
   ],
   "metadata": {}
  }
 ]
}